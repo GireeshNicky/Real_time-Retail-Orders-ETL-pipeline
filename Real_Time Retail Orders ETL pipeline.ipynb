{
 "cells": [
  {
   "cell_type": "markdown",
   "metadata": {
    "application/vnd.databricks.v1+cell": {
     "cellMetadata": {},
     "inputWidgets": {},
     "nuid": "a7949950-7eea-4945-8540-bda1a5c9f58c",
     "showTitle": false,
     "tableResultSettingsMap": {},
     "title": ""
    }
   },
   "source": [
    "Setup: Create a Simulated Inputs Source"
   ]
  },
  {
   "cell_type": "code",
   "execution_count": 0,
   "metadata": {
    "application/vnd.databricks.v1+cell": {
     "cellMetadata": {
      "byteLimit": 2048000,
      "rowLimit": 10000
     },
     "inputWidgets": {},
     "nuid": "cf9296cf-8c9d-4839-8874-20984b8f0ae6",
     "showTitle": false,
     "tableResultSettingsMap": {},
     "title": ""
    }
   },
   "outputs": [
    {
     "output_type": "execute_result",
     "data": {
      "text/plain": [
       "True"
      ]
     },
     "execution_count": 2,
     "metadata": {},
     "output_type": "execute_result"
    }
   ],
   "source": [
    "dbutils.fs.mkdirs(\"/Volumes/my_retail_data/retail_schema/retail_volume/input\")"
   ]
  },
  {
   "cell_type": "markdown",
   "metadata": {
    "application/vnd.databricks.v1+cell": {
     "cellMetadata": {},
     "inputWidgets": {},
     "nuid": "8755be6d-b284-4cba-bfb7-9e2972d75bae",
     "showTitle": false,
     "tableResultSettingsMap": {},
     "title": ""
    }
   },
   "source": [
    "Create a sample input json file"
   ]
  },
  {
   "cell_type": "code",
   "execution_count": 0,
   "metadata": {
    "application/vnd.databricks.v1+cell": {
     "cellMetadata": {
      "byteLimit": 2048000,
      "rowLimit": 10000
     },
     "inputWidgets": {},
     "nuid": "4a30d18a-6bc2-43fd-9a33-9229bd5cb923",
     "showTitle": false,
     "tableResultSettingsMap": {},
     "title": ""
    }
   },
   "outputs": [
    {
     "output_type": "stream",
     "name": "stdout",
     "output_type": "stream",
     "text": [
      "Wrote 1734 bytes.\n"
     ]
    },
    {
     "output_type": "execute_result",
     "data": {
      "text/plain": [
       "True"
      ]
     },
     "execution_count": 36,
     "metadata": {},
     "output_type": "execute_result"
    }
   ],
   "source": [
    "sample_data = \"\"\"\n",
    "{\"order_id\": 1001, \"customer_id\": 501, \"item\": \"Mobile\", \"amount\": 19999.99, \"timestamp\": \"2025-07-29T12:00:00\"}\n",
    "{\"order_id\": 1002, \"customer_id\": 502, \"item\": \"Laptop\", \"amount\": 49999.99, \"timestamp\": \"2025-07-29T12:01:00\"}\n",
    "{\"order_id\": 1003, \"customer_id\": 503, \"item\": \"Tablet\", \"amount\": 29999.99, \"timestamp\": \"2025-07-29T12:02:00\"}\n",
    "{\"order_id\": 1004, \"customer_id\": 504, \"item\": \"Headphones\", \"amount\": 999.99, \"timestamp\": \"2025-07-29T12:03:00\"}\n",
    "{\"order_id\": 1005, \"customer_id\": 505, \"item\": \"Watch\", \"amount\": 1999.99, \"timestamp\": \"2025-07-29T12:05:00\"}\n",
    "{\"order_id\": 1006, \"customer_id\": 506, \"item\": \"Washing Machine\", \"amount\": 49999.99, \"timestamp\": \"2025-07-29T12:06:00\"}\n",
    "{\"order_id\": 1007, \"customer_id\": 507, \"item\": \"Refrigerator\", \"amount\": 59999.99, \"timestamp\": \"2025-07-29T12:07:00\"}\n",
    "{\"order_id\": 1008, \"customer_id\": 508, \"item\": \"Television\", \"amount\": 39999.99, \"timestamp\": \"2025-07-29T12:08:00\"}\n",
    "{\"order_id\": 1009, \"customer_id\": 509, \"item\": \"Camera\", \"amount\": 69999.99, \"timestamp\": \"2025-07-29T12:09:00\"}\n",
    "{\"order_id\": 1010, \"customer_id\": 510, \"item\": \"Desktop\", \"amount\": 29999.99, \"timestamp\": \"2025-07-29T12:10:00\"}\n",
    "{\"order_id\": 1011, \"customer_id\": 511, \"item\": \"Washing Machine\", \"amount\": 49999.99, \"timestamp\": \"2025-07-27T12:06:00\"}\n",
    "{\"oreder_id\": 1012, \"customer_id\": 512, \"item\": \"Refrigerator\", \"amount\": 59999.99, \"timestamp\": \"2025-07-27T12:07:00\"}\n",
    "{\"order_id\": 1013, \"customer_id\": 513, \"item\": \"Television\", \"amount\": 39999.99, \"timestamp\": \"2025-07-27T12:08:00\"}\n",
    "{\"order_id\": 1014, \"customer_id\": , \"item\": \"Camera\", \"amount\": 69999.99, \"timestamp\": \"2025-07-27T12:09:00\"}\n",
    "{\"order_id\": 1015, \"customer_id\": 515, \"item\": \"Desktop\", \"amount\": 29999.99, \"timestamp\": \"2025-07-27T12:10:00\"}\n",
    "\"\"\"\n",
    "dbutils.fs.put(\"/Volumes/my_retail_data/retail_schema/retail_volume/input/batch1.json\", sample_data, True)"
   ]
  },
  {
   "cell_type": "markdown",
   "metadata": {
    "application/vnd.databricks.v1+cell": {
     "cellMetadata": {},
     "inputWidgets": {},
     "nuid": "728792a6-3fc0-48f5-a63f-42616f780e47",
     "showTitle": false,
     "tableResultSettingsMap": {},
     "title": ""
    }
   },
   "source": [
    "Define schema and read \\\n",
    "Streaming Dataframe"
   ]
  },
  {
   "cell_type": "code",
   "execution_count": 0,
   "metadata": {
    "application/vnd.databricks.v1+cell": {
     "cellMetadata": {
      "byteLimit": 2048000,
      "rowLimit": 10000
     },
     "inputWidgets": {},
     "nuid": "95acf2da-fa05-4004-86a3-0a3ba463436e",
     "showTitle": false,
     "tableResultSettingsMap": {},
     "title": ""
    }
   },
   "outputs": [],
   "source": [
    "from pyspark.sql.types import StructType, StructField, StringType, DoubleType, IntegerType, TimestampType\n",
    "schema = StructType() \\\n",
    "    .add(\"order_id\", IntegerType()) \\\n",
    "    .add(\"customer_id\", IntegerType()) \\\n",
    "    .add(\"item\", StringType()) \\\n",
    "    .add(\"amount\", DoubleType()) \\\n",
    "    .add(\"timestamp\", TimestampType())\n",
    "\n",
    "input_df = (spark.readStream.schema(schema).json(\"/Volumes/my_retail_data/retail_schema/retail_volume/input\"))"
   ]
  },
  {
   "cell_type": "code",
   "execution_count": 0,
   "metadata": {
    "application/vnd.databricks.v1+cell": {
     "cellMetadata": {
      "byteLimit": 2048000,
      "rowLimit": 10000
     },
     "inputWidgets": {},
     "nuid": "5b071645-a02f-4f48-a4a1-b78a1f1ec588",
     "showTitle": false,
     "tableResultSettingsMap": {},
     "title": ""
    }
   },
   "outputs": [
    {
     "output_type": "display_data",
     "data": {
      "text/html": [
       "<style scoped>\n",
       "  .table-result-container {\n",
       "    max-height: 300px;\n",
       "    overflow: auto;\n",
       "  }\n",
       "  table, th, td {\n",
       "    border: 1px solid black;\n",
       "    border-collapse: collapse;\n",
       "  }\n",
       "  th, td {\n",
       "    padding: 5px;\n",
       "  }\n",
       "  th {\n",
       "    text-align: left;\n",
       "  }\n",
       "</style><div class='table-result-container'><table class='table-result'><thead style='background-color: white'><tr><th>order_id</th><th>customer_id</th><th>item</th><th>amount</th><th>timestamp</th></tr></thead><tbody><tr><td>1001</td><td>501</td><td>Mobile</td><td>19999.99</td><td>2025-07-29T12:00:00.000Z</td></tr><tr><td>1002</td><td>502</td><td>Laptop</td><td>49999.99</td><td>2025-07-29T12:01:00.000Z</td></tr><tr><td>1003</td><td>503</td><td>Tablet</td><td>29999.99</td><td>2025-07-29T12:02:00.000Z</td></tr><tr><td>1004</td><td>504</td><td>Headphones</td><td>999.99</td><td>2025-07-29T12:03:00.000Z</td></tr><tr><td>1005</td><td>505</td><td>Watch</td><td>1999.99</td><td>2025-07-29T12:05:00.000Z</td></tr><tr><td>1006</td><td>506</td><td>Washing Machine</td><td>49999.99</td><td>2025-07-29T12:06:00.000Z</td></tr><tr><td>1007</td><td>507</td><td>Refrigerator</td><td>59999.99</td><td>2025-07-29T12:07:00.000Z</td></tr><tr><td>1008</td><td>508</td><td>Television</td><td>39999.99</td><td>2025-07-29T12:08:00.000Z</td></tr><tr><td>1009</td><td>509</td><td>Camera</td><td>69999.99</td><td>2025-07-29T12:09:00.000Z</td></tr><tr><td>1010</td><td>510</td><td>Desktop</td><td>29999.99</td><td>2025-07-29T12:10:00.000Z</td></tr><tr><td>1011</td><td>511</td><td>Washing Machine</td><td>49999.99</td><td>2025-07-27T12:06:00.000Z</td></tr><tr><td>null</td><td>512</td><td>Refrigerator</td><td>59999.99</td><td>2025-07-27T12:07:00.000Z</td></tr><tr><td>1013</td><td>513</td><td>Television</td><td>39999.99</td><td>2025-07-27T12:08:00.000Z</td></tr><tr><td>null</td><td>null</td><td>null</td><td>null</td><td>null</td></tr><tr><td>1015</td><td>515</td><td>Desktop</td><td>29999.99</td><td>2025-07-27T12:10:00.000Z</td></tr></tbody></table></div>"
      ]
     },
     "metadata": {
      "application/vnd.databricks.v1+output": {
       "addedWidgets": {},
       "aggData": [],
       "aggError": "",
       "aggOverflow": false,
       "aggSchema": [],
       "aggSeriesLimitReached": false,
       "aggType": "",
       "arguments": {},
       "columnCustomDisplayInfos": {},
       "data": [
        [
         1001,
         501,
         "Mobile",
         19999.99,
         "2025-07-29T12:00:00.000Z"
        ],
        [
         1002,
         502,
         "Laptop",
         49999.99,
         "2025-07-29T12:01:00.000Z"
        ],
        [
         1003,
         503,
         "Tablet",
         29999.99,
         "2025-07-29T12:02:00.000Z"
        ],
        [
         1004,
         504,
         "Headphones",
         999.99,
         "2025-07-29T12:03:00.000Z"
        ],
        [
         1005,
         505,
         "Watch",
         1999.99,
         "2025-07-29T12:05:00.000Z"
        ],
        [
         1006,
         506,
         "Washing Machine",
         49999.99,
         "2025-07-29T12:06:00.000Z"
        ],
        [
         1007,
         507,
         "Refrigerator",
         59999.99,
         "2025-07-29T12:07:00.000Z"
        ],
        [
         1008,
         508,
         "Television",
         39999.99,
         "2025-07-29T12:08:00.000Z"
        ],
        [
         1009,
         509,
         "Camera",
         69999.99,
         "2025-07-29T12:09:00.000Z"
        ],
        [
         1010,
         510,
         "Desktop",
         29999.99,
         "2025-07-29T12:10:00.000Z"
        ],
        [
         1011,
         511,
         "Washing Machine",
         49999.99,
         "2025-07-27T12:06:00.000Z"
        ],
        [
         null,
         512,
         "Refrigerator",
         59999.99,
         "2025-07-27T12:07:00.000Z"
        ],
        [
         1013,
         513,
         "Television",
         39999.99,
         "2025-07-27T12:08:00.000Z"
        ],
        [
         null,
         null,
         null,
         null,
         null
        ],
        [
         1015,
         515,
         "Desktop",
         29999.99,
         "2025-07-27T12:10:00.000Z"
        ]
       ],
       "datasetInfos": [],
       "dbfsResultPath": null,
       "isJsonSchema": true,
       "metadata": {},
       "overflow": false,
       "plotOptions": {
        "customPlotOptions": {},
        "displayType": "table",
        "pivotAggregation": null,
        "pivotColumns": null,
        "xColumns": null,
        "yColumns": null
       },
       "removedWidgets": [],
       "schema": [
        {
         "metadata": "{}",
         "name": "order_id",
         "type": "\"integer\""
        },
        {
         "metadata": "{}",
         "name": "customer_id",
         "type": "\"integer\""
        },
        {
         "metadata": "{}",
         "name": "item",
         "type": "\"string\""
        },
        {
         "metadata": "{}",
         "name": "amount",
         "type": "\"double\""
        },
        {
         "metadata": "{}",
         "name": "timestamp",
         "type": "\"timestamp\""
        }
       ],
       "type": "table"
      }
     },
     "output_type": "display_data"
    }
   ],
   "source": [
    "df = spark.read.schema(schema).json(\"/Volumes/my_retail_data/retail_schema/retail_volume/input/batch1.json\")\n",
    "display(df)"
   ]
  },
  {
   "cell_type": "code",
   "execution_count": 0,
   "metadata": {
    "application/vnd.databricks.v1+cell": {
     "cellMetadata": {
      "byteLimit": 2048000,
      "rowLimit": 10000
     },
     "inputWidgets": {},
     "nuid": "a35347fe-550b-4f22-929b-f34651c140b9",
     "showTitle": false,
     "tableResultSettingsMap": {},
     "title": ""
    }
   },
   "outputs": [],
   "source": [
    "from pyspark.sql.functions import current_timestamp, from_utc_timestamp\n",
    "trans_df = (\n",
    "    input_df.filter(\"order_id IS NOT NULL AND amount > 0\")\n",
    "    .withColumn(\"processed_time\", from_utc_timestamp(current_timestamp(), \"Asia/Kolkata\"))\n",
    ")"
   ]
  },
  {
   "cell_type": "markdown",
   "metadata": {
    "application/vnd.databricks.v1+cell": {
     "cellMetadata": {},
     "inputWidgets": {},
     "nuid": "889d8fa0-d047-4a7e-9a24-2dc1513e1fd5",
     "showTitle": false,
     "tableResultSettingsMap": {},
     "title": ""
    }
   },
   "source": [
    "Load data to Delta Lake Table (Sink) \\\n",
    "Write output to a delta table in append mode:"
   ]
  },
  {
   "cell_type": "markdown",
   "metadata": {
    "application/vnd.databricks.v1+cell": {
     "cellMetadata": {},
     "inputWidgets": {},
     "nuid": "fad0559a-ead6-4407-a056-b18501b68e8b",
     "showTitle": false,
     "tableResultSettingsMap": {},
     "title": ""
    }
   },
   "source": [
    "Writing data to delta table"
   ]
  },
  {
   "cell_type": "code",
   "execution_count": 0,
   "metadata": {
    "application/vnd.databricks.v1+cell": {
     "cellMetadata": {
      "byteLimit": 2048000,
      "rowLimit": 10000
     },
     "inputWidgets": {},
     "nuid": "be04d638-8e4e-4264-8c7d-d2b366331283",
     "showTitle": false,
     "tableResultSettingsMap": {},
     "title": ""
    }
   },
   "outputs": [],
   "source": [
    "output_path = \"/Volumes/my_retail_data/retail_schema/retail_volume/output/order_delta\"\n",
    "\n",
    "query = (\n",
    "  trans_df.writeStream\n",
    "  .format(\"delta\").outputMode(\"append\")\n",
    "  .option(\"checkpointLocation\", \"/Volumes/my_retail_data/retail_schema/retail_volume/checkpoint/orders\")\n",
    "  .trigger(availableNow=True)\n",
    "  .start(output_path)\n",
    "  )"
   ]
  },
  {
   "cell_type": "code",
   "execution_count": 0,
   "metadata": {
    "application/vnd.databricks.v1+cell": {
     "cellMetadata": {
      "byteLimit": 2048000,
      "rowLimit": 10000
     },
     "inputWidgets": {},
     "nuid": "f83e1ef8-9b1e-40b7-8685-281d9c9951c6",
     "showTitle": false,
     "tableResultSettingsMap": {},
     "title": ""
    }
   },
   "outputs": [
    {
     "output_type": "execute_result",
     "data": {
      "text/plain": [
       "{'message': 'Stopped', 'isDataAvailable': False, 'isTriggerActive': False}"
      ]
     },
     "execution_count": 41,
     "metadata": {},
     "output_type": "execute_result"
    }
   ],
   "source": [
    "query.status"
   ]
  },
  {
   "cell_type": "code",
   "execution_count": 0,
   "metadata": {
    "application/vnd.databricks.v1+cell": {
     "cellMetadata": {
      "byteLimit": 2048000,
      "rowLimit": 10000
     },
     "inputWidgets": {},
     "nuid": "0ae02b07-b5e9-405c-81ec-b83448196931",
     "showTitle": false,
     "tableResultSettingsMap": {},
     "title": ""
    }
   },
   "outputs": [
    {
     "output_type": "display_data",
     "data": {
      "text/html": [
       "<style scoped>\n",
       "  .table-result-container {\n",
       "    max-height: 300px;\n",
       "    overflow: auto;\n",
       "  }\n",
       "  table, th, td {\n",
       "    border: 1px solid black;\n",
       "    border-collapse: collapse;\n",
       "  }\n",
       "  th, td {\n",
       "    padding: 5px;\n",
       "  }\n",
       "  th {\n",
       "    text-align: left;\n",
       "  }\n",
       "</style><div class='table-result-container'><table class='table-result'><thead style='background-color: white'><tr><th>order_id</th><th>customer_id</th><th>item</th><th>amount</th><th>timestamp</th><th>processed_time</th></tr></thead><tbody><tr><td>1001</td><td>501</td><td>Mobile</td><td>19999.99</td><td>2025-07-29T12:00:00.000Z</td><td>2025-07-29T16:45:23.846Z</td></tr><tr><td>1002</td><td>502</td><td>Laptop</td><td>49999.99</td><td>2025-07-29T12:01:00.000Z</td><td>2025-07-29T16:45:23.846Z</td></tr><tr><td>1003</td><td>503</td><td>Tablet</td><td>29999.99</td><td>2025-07-29T12:02:00.000Z</td><td>2025-07-29T16:45:23.846Z</td></tr><tr><td>1004</td><td>504</td><td>Headphones</td><td>999.99</td><td>2025-07-29T12:03:00.000Z</td><td>2025-07-29T16:45:23.846Z</td></tr><tr><td>1005</td><td>505</td><td>Watch</td><td>1999.99</td><td>2025-07-29T12:05:00.000Z</td><td>2025-07-29T16:45:23.846Z</td></tr><tr><td>1006</td><td>506</td><td>Washing Machine</td><td>49999.99</td><td>2025-07-29T12:06:00.000Z</td><td>2025-07-29T16:45:23.846Z</td></tr><tr><td>1007</td><td>507</td><td>Refrigerator</td><td>59999.99</td><td>2025-07-29T12:07:00.000Z</td><td>2025-07-29T16:45:23.846Z</td></tr><tr><td>1008</td><td>508</td><td>Television</td><td>39999.99</td><td>2025-07-29T12:08:00.000Z</td><td>2025-07-29T16:45:23.846Z</td></tr><tr><td>1009</td><td>509</td><td>Camera</td><td>69999.99</td><td>2025-07-29T12:09:00.000Z</td><td>2025-07-29T16:45:23.846Z</td></tr><tr><td>1010</td><td>510</td><td>Desktop</td><td>29999.99</td><td>2025-07-29T12:10:00.000Z</td><td>2025-07-29T16:45:23.846Z</td></tr><tr><td>1011</td><td>511</td><td>Washing Machine</td><td>49999.99</td><td>2025-07-27T12:06:00.000Z</td><td>2025-07-29T16:45:23.846Z</td></tr><tr><td>1013</td><td>513</td><td>Television</td><td>39999.99</td><td>2025-07-27T12:08:00.000Z</td><td>2025-07-29T16:45:23.846Z</td></tr><tr><td>1015</td><td>515</td><td>Desktop</td><td>29999.99</td><td>2025-07-27T12:10:00.000Z</td><td>2025-07-29T16:45:23.846Z</td></tr></tbody></table></div>"
      ]
     },
     "metadata": {
      "application/vnd.databricks.v1+output": {
       "addedWidgets": {},
       "aggData": [],
       "aggError": "",
       "aggOverflow": false,
       "aggSchema": [],
       "aggSeriesLimitReached": false,
       "aggType": "",
       "arguments": {},
       "columnCustomDisplayInfos": {},
       "data": [
        [
         1001,
         501,
         "Mobile",
         19999.99,
         "2025-07-29T12:00:00.000Z",
         "2025-07-29T16:45:23.846Z"
        ],
        [
         1002,
         502,
         "Laptop",
         49999.99,
         "2025-07-29T12:01:00.000Z",
         "2025-07-29T16:45:23.846Z"
        ],
        [
         1003,
         503,
         "Tablet",
         29999.99,
         "2025-07-29T12:02:00.000Z",
         "2025-07-29T16:45:23.846Z"
        ],
        [
         1004,
         504,
         "Headphones",
         999.99,
         "2025-07-29T12:03:00.000Z",
         "2025-07-29T16:45:23.846Z"
        ],
        [
         1005,
         505,
         "Watch",
         1999.99,
         "2025-07-29T12:05:00.000Z",
         "2025-07-29T16:45:23.846Z"
        ],
        [
         1006,
         506,
         "Washing Machine",
         49999.99,
         "2025-07-29T12:06:00.000Z",
         "2025-07-29T16:45:23.846Z"
        ],
        [
         1007,
         507,
         "Refrigerator",
         59999.99,
         "2025-07-29T12:07:00.000Z",
         "2025-07-29T16:45:23.846Z"
        ],
        [
         1008,
         508,
         "Television",
         39999.99,
         "2025-07-29T12:08:00.000Z",
         "2025-07-29T16:45:23.846Z"
        ],
        [
         1009,
         509,
         "Camera",
         69999.99,
         "2025-07-29T12:09:00.000Z",
         "2025-07-29T16:45:23.846Z"
        ],
        [
         1010,
         510,
         "Desktop",
         29999.99,
         "2025-07-29T12:10:00.000Z",
         "2025-07-29T16:45:23.846Z"
        ],
        [
         1011,
         511,
         "Washing Machine",
         49999.99,
         "2025-07-27T12:06:00.000Z",
         "2025-07-29T16:45:23.846Z"
        ],
        [
         1013,
         513,
         "Television",
         39999.99,
         "2025-07-27T12:08:00.000Z",
         "2025-07-29T16:45:23.846Z"
        ],
        [
         1015,
         515,
         "Desktop",
         29999.99,
         "2025-07-27T12:10:00.000Z",
         "2025-07-29T16:45:23.846Z"
        ]
       ],
       "datasetInfos": [],
       "dbfsResultPath": null,
       "isJsonSchema": true,
       "metadata": {},
       "overflow": false,
       "plotOptions": {
        "customPlotOptions": {},
        "displayType": "table",
        "pivotAggregation": null,
        "pivotColumns": null,
        "xColumns": null,
        "yColumns": null
       },
       "removedWidgets": [],
       "schema": [
        {
         "metadata": "{}",
         "name": "order_id",
         "type": "\"integer\""
        },
        {
         "metadata": "{}",
         "name": "customer_id",
         "type": "\"integer\""
        },
        {
         "metadata": "{}",
         "name": "item",
         "type": "\"string\""
        },
        {
         "metadata": "{}",
         "name": "amount",
         "type": "\"double\""
        },
        {
         "metadata": "{}",
         "name": "timestamp",
         "type": "\"timestamp\""
        },
        {
         "metadata": "{}",
         "name": "processed_time",
         "type": "\"timestamp\""
        }
       ],
       "type": "table"
      }
     },
     "output_type": "display_data"
    }
   ],
   "source": [
    "df = spark.read.format(\"delta\").load(output_path)\n",
    "display(df)"
   ]
  },
  {
   "cell_type": "markdown",
   "metadata": {
    "application/vnd.databricks.v1+cell": {
     "cellMetadata": {},
     "inputWidgets": {},
     "nuid": "67edab32-d2c1-4333-b9fe-a0c979ebd7ef",
     "showTitle": false,
     "tableResultSettingsMap": {},
     "title": ""
    }
   },
   "source": [
    "appending missed values."
   ]
  },
  {
   "cell_type": "code",
   "execution_count": 0,
   "metadata": {
    "application/vnd.databricks.v1+cell": {
     "cellMetadata": {
      "byteLimit": 2048000,
      "rowLimit": 10000
     },
     "inputWidgets": {},
     "nuid": "4bda0f6b-2955-4840-bf4e-0cf4a4a04bbe",
     "showTitle": false,
     "tableResultSettingsMap": {
      "0": {
       "dataGridStateBlob": "{\"version\":1,\"tableState\":{\"columnPinning\":{\"left\":[\"#row_number#\"],\"right\":[]},\"columnSizing\":{},\"columnVisibility\":{}},\"settings\":{\"columns\":{}},\"syncTimestamp\":1753790421687}",
       "filterBlob": null,
       "queryPlanFiltersBlob": null,
       "tableResultIndex": 0
      }
     },
     "title": ""
    }
   },
   "outputs": [
    {
     "output_type": "display_data",
     "data": {
      "text/html": [
       "<style scoped>\n",
       "  .table-result-container {\n",
       "    max-height: 300px;\n",
       "    overflow: auto;\n",
       "  }\n",
       "  table, th, td {\n",
       "    border: 1px solid black;\n",
       "    border-collapse: collapse;\n",
       "  }\n",
       "  th, td {\n",
       "    padding: 5px;\n",
       "  }\n",
       "  th {\n",
       "    text-align: left;\n",
       "  }\n",
       "</style><div class='table-result-container'><table class='table-result'><thead style='background-color: white'><tr><th>order_id</th><th>customer_id</th><th>item</th><th>amount</th><th>timestamp</th><th>processed_time</th></tr></thead><tbody><tr><td>1001</td><td>501</td><td>Mobile</td><td>19999.99</td><td>2025-07-29T12:00:00.000Z</td><td>2025-07-29T16:45:23.846Z</td></tr><tr><td>1002</td><td>502</td><td>Laptop</td><td>49999.99</td><td>2025-07-29T12:01:00.000Z</td><td>2025-07-29T16:45:23.846Z</td></tr><tr><td>1003</td><td>503</td><td>Tablet</td><td>29999.99</td><td>2025-07-29T12:02:00.000Z</td><td>2025-07-29T16:45:23.846Z</td></tr><tr><td>1004</td><td>504</td><td>Headphones</td><td>999.99</td><td>2025-07-29T12:03:00.000Z</td><td>2025-07-29T16:45:23.846Z</td></tr><tr><td>1005</td><td>505</td><td>Watch</td><td>1999.99</td><td>2025-07-29T12:05:00.000Z</td><td>2025-07-29T16:45:23.846Z</td></tr><tr><td>1006</td><td>506</td><td>Washing Machine</td><td>49999.99</td><td>2025-07-29T12:06:00.000Z</td><td>2025-07-29T16:45:23.846Z</td></tr><tr><td>1007</td><td>507</td><td>Refrigerator</td><td>59999.99</td><td>2025-07-29T12:07:00.000Z</td><td>2025-07-29T16:45:23.846Z</td></tr><tr><td>1008</td><td>508</td><td>Television</td><td>39999.99</td><td>2025-07-29T12:08:00.000Z</td><td>2025-07-29T16:45:23.846Z</td></tr><tr><td>1009</td><td>509</td><td>Camera</td><td>69999.99</td><td>2025-07-29T12:09:00.000Z</td><td>2025-07-29T16:45:23.846Z</td></tr><tr><td>1010</td><td>510</td><td>Desktop</td><td>29999.99</td><td>2025-07-29T12:10:00.000Z</td><td>2025-07-29T16:45:23.846Z</td></tr><tr><td>1011</td><td>511</td><td>Washing Machine</td><td>49999.99</td><td>2025-07-27T12:06:00.000Z</td><td>2025-07-29T16:45:23.846Z</td></tr><tr><td>1013</td><td>513</td><td>Television</td><td>39999.99</td><td>2025-07-27T12:08:00.000Z</td><td>2025-07-29T16:45:23.846Z</td></tr><tr><td>1015</td><td>515</td><td>Desktop</td><td>29999.99</td><td>2025-07-27T12:10:00.000Z</td><td>2025-07-29T16:45:23.846Z</td></tr><tr><td>1012</td><td>512</td><td>Refrigerator</td><td>59999.99</td><td>2025-07-27T12:07:00.000Z</td><td>2025-07-29T17:30:00.622Z</td></tr><tr><td>1014</td><td>514</td><td>Camera</td><td>69999.99</td><td>2025-07-27T12:09:00.000Z</td><td>2025-07-29T17:30:00.622Z</td></tr></tbody></table></div>"
      ]
     },
     "metadata": {
      "application/vnd.databricks.v1+output": {
       "addedWidgets": {},
       "aggData": [],
       "aggError": "",
       "aggOverflow": false,
       "aggSchema": [],
       "aggSeriesLimitReached": false,
       "aggType": "",
       "arguments": {},
       "columnCustomDisplayInfos": {},
       "data": [
        [
         1001,
         501,
         "Mobile",
         19999.99,
         "2025-07-29T12:00:00.000Z",
         "2025-07-29T16:45:23.846Z"
        ],
        [
         1002,
         502,
         "Laptop",
         49999.99,
         "2025-07-29T12:01:00.000Z",
         "2025-07-29T16:45:23.846Z"
        ],
        [
         1003,
         503,
         "Tablet",
         29999.99,
         "2025-07-29T12:02:00.000Z",
         "2025-07-29T16:45:23.846Z"
        ],
        [
         1004,
         504,
         "Headphones",
         999.99,
         "2025-07-29T12:03:00.000Z",
         "2025-07-29T16:45:23.846Z"
        ],
        [
         1005,
         505,
         "Watch",
         1999.99,
         "2025-07-29T12:05:00.000Z",
         "2025-07-29T16:45:23.846Z"
        ],
        [
         1006,
         506,
         "Washing Machine",
         49999.99,
         "2025-07-29T12:06:00.000Z",
         "2025-07-29T16:45:23.846Z"
        ],
        [
         1007,
         507,
         "Refrigerator",
         59999.99,
         "2025-07-29T12:07:00.000Z",
         "2025-07-29T16:45:23.846Z"
        ],
        [
         1008,
         508,
         "Television",
         39999.99,
         "2025-07-29T12:08:00.000Z",
         "2025-07-29T16:45:23.846Z"
        ],
        [
         1009,
         509,
         "Camera",
         69999.99,
         "2025-07-29T12:09:00.000Z",
         "2025-07-29T16:45:23.846Z"
        ],
        [
         1010,
         510,
         "Desktop",
         29999.99,
         "2025-07-29T12:10:00.000Z",
         "2025-07-29T16:45:23.846Z"
        ],
        [
         1011,
         511,
         "Washing Machine",
         49999.99,
         "2025-07-27T12:06:00.000Z",
         "2025-07-29T16:45:23.846Z"
        ],
        [
         1013,
         513,
         "Television",
         39999.99,
         "2025-07-27T12:08:00.000Z",
         "2025-07-29T16:45:23.846Z"
        ],
        [
         1015,
         515,
         "Desktop",
         29999.99,
         "2025-07-27T12:10:00.000Z",
         "2025-07-29T16:45:23.846Z"
        ],
        [
         1012,
         512,
         "Refrigerator",
         59999.99,
         "2025-07-27T12:07:00.000Z",
         "2025-07-29T17:30:00.622Z"
        ],
        [
         1014,
         514,
         "Camera",
         69999.99,
         "2025-07-27T12:09:00.000Z",
         "2025-07-29T17:30:00.622Z"
        ]
       ],
       "datasetInfos": [],
       "dbfsResultPath": null,
       "isJsonSchema": true,
       "metadata": {},
       "overflow": false,
       "plotOptions": {
        "customPlotOptions": {},
        "displayType": "table",
        "pivotAggregation": null,
        "pivotColumns": null,
        "xColumns": null,
        "yColumns": null
       },
       "removedWidgets": [],
       "schema": [
        {
         "metadata": "{}",
         "name": "order_id",
         "type": "\"integer\""
        },
        {
         "metadata": "{}",
         "name": "customer_id",
         "type": "\"integer\""
        },
        {
         "metadata": "{}",
         "name": "item",
         "type": "\"string\""
        },
        {
         "metadata": "{}",
         "name": "amount",
         "type": "\"double\""
        },
        {
         "metadata": "{}",
         "name": "timestamp",
         "type": "\"timestamp\""
        },
        {
         "metadata": "{}",
         "name": "processed_time",
         "type": "\"timestamp\""
        }
       ],
       "type": "table"
      }
     },
     "output_type": "display_data"
    }
   ],
   "source": [
    "from pyspark.sql.types import StructType, StructField, StringType, IntegerType, TimestampType, FloatType\n",
    "from pyspark.sql.functions import current_timestamp, from_utc_timestamp\n",
    "from datetime import datetime\n",
    "#getting missed data from batch1.json or from cutomers, if it present we will add it to the dataframe manually\n",
    "missed_data = [\n",
    "    (1012, 512, \"Refrigerator\", 59999.99, datetime.strptime (\"2025-07-27T12:07:00\", \"%Y-%m-%dT%H:%M:%S\")),\n",
    "    (1014, 514, \"Camera\", 69999.99, datetime.strptime(\"2025-07-27T12:09:00\", \"%Y-%m-%dT%H:%M:%S\"))\n",
    "]\n",
    "\n",
    "#Define schema for dataframe creation\n",
    "schema = StructType([\n",
    "    StructField(\"order_id\", IntegerType(), True),\n",
    "    StructField(\"customer_id\", IntegerType(), True),\n",
    "    StructField(\"item\", StringType(), True),\n",
    "    StructField(\"amount\", DoubleType(), True),\n",
    "    StructField(\"timestamp\", TimestampType(), True)\n",
    "])\n",
    "\n",
    "#Create dataframe with missed data\n",
    "missed_df = spark.createDataFrame(missed_data, schema)\n",
    "\n",
    "#cast timestamp to actual timestamp type\n",
    "missed_df = missed_df.withColumn(\"timestamp\", missed_df[\"timestamp\"].cast(TimestampType()))\n",
    "\n",
    "#add processed_time column in ist\n",
    "missed_df = missed_df.withColumn(\"processed_time\", from_utc_timestamp(current_timestamp(), \"Asia/Kolkata\"))\n",
    "\n",
    "#append to delta table\n",
    "output_path = \"/Volumes/my_retail_data/retail_schema/retail_volume/output/order_delta\"\n",
    "missed_df.write.format(\"delta\").mode(\"append\").save(output_path)\n",
    "df = spark.read.format(\"delta\").load(output_path)\n",
    "display(df)\n",
    "\n",
    "\n"
   ]
  },
  {
   "cell_type": "markdown",
   "metadata": {
    "application/vnd.databricks.v1+cell": {
     "cellMetadata": {},
     "inputWidgets": {},
     "nuid": "c37f8973-0feb-4dbd-a04d-9096302af477",
     "showTitle": false,
     "tableResultSettingsMap": {},
     "title": ""
    }
   },
   "source": [
    "To check streaming \\\n",
    "add more data in form of json files and re run initialize streaming"
   ]
  },
  {
   "cell_type": "code",
   "execution_count": 0,
   "metadata": {
    "application/vnd.databricks.v1+cell": {
     "cellMetadata": {
      "byteLimit": 2048000,
      "rowLimit": 10000
     },
     "inputWidgets": {},
     "nuid": "9aa83028-6288-435f-9c2a-206e1d47e76e",
     "showTitle": false,
     "tableResultSettingsMap": {},
     "title": ""
    }
   },
   "outputs": [
    {
     "output_type": "stream",
     "name": "stdout",
     "output_type": "stream",
     "text": [
      "Wrote 601 bytes.\n"
     ]
    },
    {
     "output_type": "execute_result",
     "data": {
      "text/plain": [
       "True"
      ]
     },
     "execution_count": 104,
     "metadata": {},
     "output_type": "execute_result"
    }
   ],
   "source": [
    "new_data = \"\"\"\n",
    "  {\"order_id\": 1016, \"customer_id\": 516, \"item\": \"chairs\", \"amount\": 2999.89, \"timestamp\": \"2025-07-26T13:06:00\"}\n",
    "  {\"order_id\": 1017, \"customer_id\": 517, \"item\": \"Sofa\", \"amount\": 58999.99, \"timestamp\": \"2025-07-24T16:07:00\"}\n",
    "  {\"order_id\": 1018, \"customer_id\": 518, \"item\": \"Kitchen_furniture\", \"amount\": 77999.99, \"timestamp\": \"2025-07-26T15:08:00\"}\n",
    "  {\"order_id\": 1019, \"customer_id\": 519, \"item\": \"Air_conditioners\", \"amount\": 89999.99, \"timestamp\": \"2025-07-26T19:09:00\"}\n",
    "  {\"order_id\": 1020, \"customer_id\": 520, \"item\": \"Iron_pipes\", \"amount\": 100999.99, \"timestamp\": \"2025-07-26T18:10:00\"}\n",
    "  \"\"\"\n",
    "dbutils.fs.put(\"/Volumes/my_retail_data/retail_schema/retail_volume/input/batch2.json\", new_data, True)"
   ]
  },
  {
   "cell_type": "markdown",
   "metadata": {
    "application/vnd.databricks.v1+cell": {
     "cellMetadata": {},
     "inputWidgets": {},
     "nuid": "ce0a2344-c7eb-4324-ad55-60c35c336e39",
     "showTitle": false,
     "tableResultSettingsMap": {},
     "title": ""
    }
   },
   "source": [
    "checkin new data is appending or not"
   ]
  },
  {
   "cell_type": "code",
   "execution_count": 0,
   "metadata": {
    "application/vnd.databricks.v1+cell": {
     "cellMetadata": {
      "byteLimit": 2048000,
      "rowLimit": 10000
     },
     "inputWidgets": {},
     "nuid": "1cb7c3e1-b34d-45a1-b37c-c8c315d4246f",
     "showTitle": false,
     "tableResultSettingsMap": {
      "0": {
       "dataGridStateBlob": "{\"version\":1,\"tableState\":{\"columnPinning\":{\"left\":[\"#row_number#\"],\"right\":[]},\"columnSizing\":{\"processed_time\":203},\"columnVisibility\":{}},\"settings\":{\"columns\":{}},\"syncTimestamp\":1753791690256}",
       "filterBlob": null,
       "queryPlanFiltersBlob": null,
       "tableResultIndex": 0
      }
     },
     "title": ""
    }
   },
   "outputs": [
    {
     "output_type": "display_data",
     "data": {
      "text/html": [
       "<style scoped>\n",
       "  .table-result-container {\n",
       "    max-height: 300px;\n",
       "    overflow: auto;\n",
       "  }\n",
       "  table, th, td {\n",
       "    border: 1px solid black;\n",
       "    border-collapse: collapse;\n",
       "  }\n",
       "  th, td {\n",
       "    padding: 5px;\n",
       "  }\n",
       "  th {\n",
       "    text-align: left;\n",
       "  }\n",
       "</style><div class='table-result-container'><table class='table-result'><thead style='background-color: white'><tr><th>order_id</th><th>customer_id</th><th>item</th><th>amount</th><th>timestamp</th><th>processed_time</th></tr></thead><tbody><tr><td>1001</td><td>501</td><td>Mobile</td><td>19999.99</td><td>2025-07-29T12:00:00.000Z</td><td>2025-07-29T16:45:23.846Z</td></tr><tr><td>1002</td><td>502</td><td>Laptop</td><td>49999.99</td><td>2025-07-29T12:01:00.000Z</td><td>2025-07-29T16:45:23.846Z</td></tr><tr><td>1003</td><td>503</td><td>Tablet</td><td>29999.99</td><td>2025-07-29T12:02:00.000Z</td><td>2025-07-29T16:45:23.846Z</td></tr><tr><td>1004</td><td>504</td><td>Headphones</td><td>999.99</td><td>2025-07-29T12:03:00.000Z</td><td>2025-07-29T16:45:23.846Z</td></tr><tr><td>1005</td><td>505</td><td>Watch</td><td>1999.99</td><td>2025-07-29T12:05:00.000Z</td><td>2025-07-29T16:45:23.846Z</td></tr><tr><td>1006</td><td>506</td><td>Washing Machine</td><td>49999.99</td><td>2025-07-29T12:06:00.000Z</td><td>2025-07-29T16:45:23.846Z</td></tr><tr><td>1007</td><td>507</td><td>Refrigerator</td><td>59999.99</td><td>2025-07-29T12:07:00.000Z</td><td>2025-07-29T16:45:23.846Z</td></tr><tr><td>1008</td><td>508</td><td>Television</td><td>39999.99</td><td>2025-07-29T12:08:00.000Z</td><td>2025-07-29T16:45:23.846Z</td></tr><tr><td>1009</td><td>509</td><td>Camera</td><td>69999.99</td><td>2025-07-29T12:09:00.000Z</td><td>2025-07-29T16:45:23.846Z</td></tr><tr><td>1010</td><td>510</td><td>Desktop</td><td>29999.99</td><td>2025-07-29T12:10:00.000Z</td><td>2025-07-29T16:45:23.846Z</td></tr><tr><td>1011</td><td>511</td><td>Washing Machine</td><td>49999.99</td><td>2025-07-27T12:06:00.000Z</td><td>2025-07-29T16:45:23.846Z</td></tr><tr><td>1013</td><td>513</td><td>Television</td><td>39999.99</td><td>2025-07-27T12:08:00.000Z</td><td>2025-07-29T16:45:23.846Z</td></tr><tr><td>1015</td><td>515</td><td>Desktop</td><td>29999.99</td><td>2025-07-27T12:10:00.000Z</td><td>2025-07-29T16:45:23.846Z</td></tr><tr><td>1016</td><td>516</td><td>chairs</td><td>2999.89</td><td>2025-07-26T13:06:00.000Z</td><td>2025-07-29T17:48:36.271Z</td></tr><tr><td>1017</td><td>517</td><td>Sofa</td><td>58999.99</td><td>2025-07-24T16:07:00.000Z</td><td>2025-07-29T17:48:36.271Z</td></tr><tr><td>1018</td><td>518</td><td>Kitchen_furniture</td><td>77999.99</td><td>2025-07-26T15:08:00.000Z</td><td>2025-07-29T17:48:36.271Z</td></tr><tr><td>1019</td><td>519</td><td>Air_conditioners</td><td>89999.99</td><td>2025-07-26T19:09:00.000Z</td><td>2025-07-29T17:48:36.271Z</td></tr><tr><td>1020</td><td>520</td><td>Iron_pipes</td><td>100999.99</td><td>2025-07-26T18:10:00.000Z</td><td>2025-07-29T17:48:36.271Z</td></tr><tr><td>1012</td><td>512</td><td>Refrigerator</td><td>59999.99</td><td>2025-07-27T12:07:00.000Z</td><td>2025-07-29T17:30:00.622Z</td></tr><tr><td>1014</td><td>514</td><td>Camera</td><td>69999.99</td><td>2025-07-27T12:09:00.000Z</td><td>2025-07-29T17:30:00.622Z</td></tr></tbody></table></div>"
      ]
     },
     "metadata": {
      "application/vnd.databricks.v1+output": {
       "addedWidgets": {},
       "aggData": [],
       "aggError": "",
       "aggOverflow": false,
       "aggSchema": [],
       "aggSeriesLimitReached": false,
       "aggType": "",
       "arguments": {},
       "columnCustomDisplayInfos": {},
       "data": [
        [
         1001,
         501,
         "Mobile",
         19999.99,
         "2025-07-29T12:00:00.000Z",
         "2025-07-29T16:45:23.846Z"
        ],
        [
         1002,
         502,
         "Laptop",
         49999.99,
         "2025-07-29T12:01:00.000Z",
         "2025-07-29T16:45:23.846Z"
        ],
        [
         1003,
         503,
         "Tablet",
         29999.99,
         "2025-07-29T12:02:00.000Z",
         "2025-07-29T16:45:23.846Z"
        ],
        [
         1004,
         504,
         "Headphones",
         999.99,
         "2025-07-29T12:03:00.000Z",
         "2025-07-29T16:45:23.846Z"
        ],
        [
         1005,
         505,
         "Watch",
         1999.99,
         "2025-07-29T12:05:00.000Z",
         "2025-07-29T16:45:23.846Z"
        ],
        [
         1006,
         506,
         "Washing Machine",
         49999.99,
         "2025-07-29T12:06:00.000Z",
         "2025-07-29T16:45:23.846Z"
        ],
        [
         1007,
         507,
         "Refrigerator",
         59999.99,
         "2025-07-29T12:07:00.000Z",
         "2025-07-29T16:45:23.846Z"
        ],
        [
         1008,
         508,
         "Television",
         39999.99,
         "2025-07-29T12:08:00.000Z",
         "2025-07-29T16:45:23.846Z"
        ],
        [
         1009,
         509,
         "Camera",
         69999.99,
         "2025-07-29T12:09:00.000Z",
         "2025-07-29T16:45:23.846Z"
        ],
        [
         1010,
         510,
         "Desktop",
         29999.99,
         "2025-07-29T12:10:00.000Z",
         "2025-07-29T16:45:23.846Z"
        ],
        [
         1011,
         511,
         "Washing Machine",
         49999.99,
         "2025-07-27T12:06:00.000Z",
         "2025-07-29T16:45:23.846Z"
        ],
        [
         1013,
         513,
         "Television",
         39999.99,
         "2025-07-27T12:08:00.000Z",
         "2025-07-29T16:45:23.846Z"
        ],
        [
         1015,
         515,
         "Desktop",
         29999.99,
         "2025-07-27T12:10:00.000Z",
         "2025-07-29T16:45:23.846Z"
        ],
        [
         1016,
         516,
         "chairs",
         2999.89,
         "2025-07-26T13:06:00.000Z",
         "2025-07-29T17:48:36.271Z"
        ],
        [
         1017,
         517,
         "Sofa",
         58999.99,
         "2025-07-24T16:07:00.000Z",
         "2025-07-29T17:48:36.271Z"
        ],
        [
         1018,
         518,
         "Kitchen_furniture",
         77999.99,
         "2025-07-26T15:08:00.000Z",
         "2025-07-29T17:48:36.271Z"
        ],
        [
         1019,
         519,
         "Air_conditioners",
         89999.99,
         "2025-07-26T19:09:00.000Z",
         "2025-07-29T17:48:36.271Z"
        ],
        [
         1020,
         520,
         "Iron_pipes",
         100999.99,
         "2025-07-26T18:10:00.000Z",
         "2025-07-29T17:48:36.271Z"
        ],
        [
         1012,
         512,
         "Refrigerator",
         59999.99,
         "2025-07-27T12:07:00.000Z",
         "2025-07-29T17:30:00.622Z"
        ],
        [
         1014,
         514,
         "Camera",
         69999.99,
         "2025-07-27T12:09:00.000Z",
         "2025-07-29T17:30:00.622Z"
        ]
       ],
       "datasetInfos": [],
       "dbfsResultPath": null,
       "isJsonSchema": true,
       "metadata": {},
       "overflow": false,
       "plotOptions": {
        "customPlotOptions": {},
        "displayType": "table",
        "pivotAggregation": null,
        "pivotColumns": null,
        "xColumns": null,
        "yColumns": null
       },
       "removedWidgets": [],
       "schema": [
        {
         "metadata": "{}",
         "name": "order_id",
         "type": "\"integer\""
        },
        {
         "metadata": "{}",
         "name": "customer_id",
         "type": "\"integer\""
        },
        {
         "metadata": "{}",
         "name": "item",
         "type": "\"string\""
        },
        {
         "metadata": "{}",
         "name": "amount",
         "type": "\"double\""
        },
        {
         "metadata": "{}",
         "name": "timestamp",
         "type": "\"timestamp\""
        },
        {
         "metadata": "{}",
         "name": "processed_time",
         "type": "\"timestamp\""
        }
       ],
       "type": "table"
      }
     },
     "output_type": "display_data"
    }
   ],
   "source": [
    "df = spark.read.format(\"delta\").load(output_path)\n",
    "display(df)"
   ]
  }
 ],
 "metadata": {
  "application/vnd.databricks.v1+notebook": {
   "computePreferences": null,
   "dashboards": [],
   "environmentMetadata": {
    "base_environment": "",
    "environment_version": "2"
   },
   "inputWidgetPreferences": null,
   "language": "python",
   "notebookMetadata": {
    "pythonIndentUnit": 4
   },
   "notebookName": "Real_Time Retail Orders ETL pipeline",
   "widgets": {}
  },
  "language_info": {
   "name": "python"
  }
 },
 "nbformat": 4,
 "nbformat_minor": 0
}